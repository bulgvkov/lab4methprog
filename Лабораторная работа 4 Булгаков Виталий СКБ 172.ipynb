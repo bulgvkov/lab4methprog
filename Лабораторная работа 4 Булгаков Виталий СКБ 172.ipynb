{
 "cells": [
  {
   "cell_type": "markdown",
   "metadata": {},
   "source": [
    "# Распределение  Пуассона и последовательность \n"
   ]
  },
  {
   "cell_type": "markdown",
   "metadata": {
    "ExecuteTime": {
     "end_time": "2020-05-06T21:08:29.648822Z",
     "start_time": "2020-05-06T21:08:29.641722Z"
    },
    "code_folding": []
   },
   "source": [
    "Зададим функцию $genpoiss(\\lambda)$, будет генерировать реализации по Пуассону. "
   ]
  },
  {
   "cell_type": "code",
   "execution_count": 49,
   "metadata": {
    "ExecuteTime": {
     "end_time": "2020-05-30T23:53:24.995988Z",
     "start_time": "2020-05-30T23:53:24.990845Z"
    },
    "code_folding": []
   },
   "outputs": [],
   "source": [
    "import numpy as np\n",
    "import math\n",
    "import matplotlib.pyplot as plt\n",
    "import seaborn as sns\n",
    "sns.set()\n",
    "import pandas as pd\n",
    "import random\n",
    "import time\n",
    "from scipy.stats import laplace, uniform, chi2"
   ]
  },
  {
   "cell_type": "code",
   "execution_count": 43,
   "metadata": {
    "ExecuteTime": {
     "end_time": "2020-05-30T23:36:15.707548Z",
     "start_time": "2020-05-30T23:36:15.703560Z"
    }
   },
   "outputs": [],
   "source": [
    "sizes_of_data = [50, 100, 500, 1000, 5000, 10000]\n",
    "sizes_times = [1000, 10000, 100000, 500000, 1000000]"
   ]
  },
  {
   "cell_type": "markdown",
   "metadata": {},
   "source": [
    "## Функции генерации"
   ]
  },
  {
   "cell_type": "code",
   "execution_count": 63,
   "metadata": {
    "ExecuteTime": {
     "end_time": "2020-05-31T00:06:38.488834Z",
     "start_time": "2020-05-31T00:06:38.481852Z"
    }
   },
   "outputs": [],
   "source": [
    "def genpoiss(p_lambda, size):\n",
    "    \"\"\"\n",
    "    Генераця чисел по закону Пуассона\n",
    "    p_lambda - int (коэффиент распределения)\n",
    "    size - размер данных\n",
    "    \n",
    "    genpoiss(p_lambda,size) -> list\n",
    "    \"\"\"\n",
    "    our_numb = []\n",
    "    for i in range(size):\n",
    "        p = np.exp(-p_lambda)\n",
    "        sp = 0\n",
    "        sp += p\n",
    "        u = np.random.uniform(0, 1)\n",
    "        j = 0\n",
    "        while u > sp:\n",
    "            j += 1  # p_j\n",
    "            p *= p_lambda / j  # p_j / p_j-1 = p_lambda / j\n",
    "            sp += p\n",
    "        our_numb.append(j)\n",
    "    return our_numb"
   ]
  },
  {
   "cell_type": "code",
   "execution_count": 64,
   "metadata": {
    "ExecuteTime": {
     "end_time": "2020-05-31T00:06:38.858843Z",
     "start_time": "2020-05-31T00:06:38.854854Z"
    }
   },
   "outputs": [
    {
     "name": "stdout",
     "output_type": "stream",
     "text": [
      "\n",
      "    Генераця чисел по закону Пуассона\n",
      "    p_lambda - int (коэффиент распределения)\n",
      "    size - размер данных\n",
      "    \n",
      "    genpoiss(p_lambda,size) -> list\n",
      "    \n"
     ]
    }
   ],
   "source": [
    "print(genpoiss.__doc__)"
   ]
  },
  {
   "cell_type": "code",
   "execution_count": 52,
   "metadata": {
    "ExecuteTime": {
     "end_time": "2020-05-31T00:02:33.719486Z",
     "start_time": "2020-05-31T00:02:33.713301Z"
    }
   },
   "outputs": [],
   "source": [
    "def LCG(seed, a=1103515245, c=12345, m=2**32):\n",
    "    \"\"\"\n",
    "    Линейный конгруэнтный генератор\n",
    "    \n",
    "    seed (int) - начальное значение\n",
    "    a (int) - множитель (изначально 1103515245)\n",
    "    c (int) - инкремент (default 12345)\n",
    "    m (int) - модуль (default 2 ** 32)\n",
    "    \n",
    "    LCG(seed, a, c, m) -> float\n",
    "    \"\"\"\n",
    "    xf = seed\n",
    "    while True:\n",
    "        xf = (a * xf + c) % m\n",
    "        yield xf\n",
    "\n",
    "\n",
    "def random_sample(n, interval, seed):\n",
    "    \"\"\"\n",
    "    Генератор псевдорандомных выборок\n",
    "    \n",
    "    n (int) - объем массива\n",
    "    interval (list) - интервальное распределение\n",
    "    seed (int) - начальное значение\n",
    "    \n",
    "    random_sample(n, interval, seed) -> list\n",
    "    \"\"\"\n",
    "    lower, upper = interval[0], interval[1]\n",
    "    sample = []\n",
    "    sop = LCG(seed)\n",
    "    for i in range(n):\n",
    "        checks = (upper - lower) * (next(sop) / (2**32 - 1)) + lower\n",
    "        sample.append(int(np.around(checks, 0)))\n",
    "\n",
    "    return sample"
   ]
  },
  {
   "cell_type": "code",
   "execution_count": 54,
   "metadata": {
    "ExecuteTime": {
     "end_time": "2020-05-31T00:03:04.804082Z",
     "start_time": "2020-05-31T00:03:04.800091Z"
    }
   },
   "outputs": [
    {
     "name": "stdout",
     "output_type": "stream",
     "text": [
      "\n",
      "    Линейный конгруэнтный генератор\n",
      "    \n",
      "    seed (int) - начальное значение\n",
      "    a (int) - множитель (изначально 1103515245)\n",
      "    c (int) - инкремент (default 12345)\n",
      "    m (int) - модуль (default 2 ** 32)\n",
      "    \n",
      "    LCG(seed, a, c, m) -> float\n",
      "    \n"
     ]
    }
   ],
   "source": [
    "print(LCG.__doc__)"
   ]
  },
  {
   "cell_type": "code",
   "execution_count": 55,
   "metadata": {
    "ExecuteTime": {
     "end_time": "2020-05-31T00:03:18.326917Z",
     "start_time": "2020-05-31T00:03:18.321930Z"
    }
   },
   "outputs": [
    {
     "name": "stdout",
     "output_type": "stream",
     "text": [
      "\n",
      "    Генератор псевдорандомных выборок\n",
      "    \n",
      "    n (int) - объем массива\n",
      "    interval (list) - интервальное распределение\n",
      "    seed (int) - начальное значение\n",
      "    \n",
      "    random_sample(n, interval, seed) -> list\n",
      "    \n"
     ]
    }
   ],
   "source": [
    "print(random_sample.__doc__)"
   ]
  },
  {
   "cell_type": "code",
   "execution_count": 15,
   "metadata": {
    "ExecuteTime": {
     "end_time": "2020-05-30T23:17:45.649709Z",
     "start_time": "2020-05-30T23:17:45.556947Z"
    }
   },
   "outputs": [],
   "source": [
    "seed = 1590597906485\n",
    "\n",
    "sample_lsg = np.empty(len(sizes_of_data), dtype=np.ndarray)\n",
    "\n",
    "for i, size in enumerate(sizes_of_data):\n",
    "    sample_lsg[i] = random_sample(size, [0, 10001], seed)"
   ]
  },
  {
   "cell_type": "code",
   "execution_count": 13,
   "metadata": {
    "ExecuteTime": {
     "end_time": "2020-05-30T23:16:16.642408Z",
     "start_time": "2020-05-30T23:16:16.600438Z"
    }
   },
   "outputs": [],
   "source": [
    "massiv_poissov = [[], [], [], [], []]\n",
    "for i in range(len(massiv_poissov)):\n",
    "    ps_lambda = 5\n",
    "    massiv_poissov[i] = np.array(\n",
    "        genpoiss(ps_lambda, size=np.random.randint(1000, 2000)))"
   ]
  },
  {
   "cell_type": "markdown",
   "metadata": {},
   "source": [
    "## Функции для среднего, отклонения и коэффициента вариации"
   ]
  },
  {
   "cell_type": "code",
   "execution_count": 57,
   "metadata": {
    "ExecuteTime": {
     "end_time": "2020-05-31T00:03:49.168773Z",
     "start_time": "2020-05-31T00:03:49.163491Z"
    }
   },
   "outputs": [],
   "source": [
    "def means(sample):\n",
    "    \"\"\"\n",
    "    Среднее значение\n",
    "    sample - массив данных\n",
    "    means(sample) -> float\n",
    "    \n",
    "    \"\"\"\n",
    "    return np.round(np.sum(sample) / len(sample), 3)\n",
    "\n",
    "\n",
    "def deviation(sample):\n",
    "    \"\"\"\n",
    "    Средне квадратичное тклонение\n",
    "    sample - массив данных\n",
    "    means(sample) -> float\n",
    "    \n",
    "    \"\"\"\n",
    "    return np.round(np.sqrt(np.sum((sample - means(sample))**2) / len(sample)),\n",
    "                    3)\n",
    "\n",
    "\n",
    "def coefv(sample):\n",
    "    \"\"\"\n",
    "    Коээфициент вариации\n",
    "    sample - массив данных\n",
    "    means(sample) -> float\n",
    "    \n",
    "    \"\"\"\n",
    "    return np.round(deviation(sample) / means(sample), 3)"
   ]
  },
  {
   "cell_type": "code",
   "execution_count": 58,
   "metadata": {
    "ExecuteTime": {
     "end_time": "2020-05-31T00:03:49.817009Z",
     "start_time": "2020-05-31T00:03:49.813799Z"
    }
   },
   "outputs": [
    {
     "name": "stdout",
     "output_type": "stream",
     "text": [
      "\n",
      "    Среднее значение\n",
      "    sample - массив данных\n",
      "    means(sample) -> float\n",
      "    \n",
      "    \n",
      "\n",
      "    Средне квадратичное тклонение\n",
      "    sample - массив данных\n",
      "    means(sample) -> float\n",
      "    \n",
      "    \n",
      "\n",
      "    Коээфициент вариации\n",
      "    sample - массив данных\n",
      "    means(sample) -> float\n",
      "    \n",
      "    \n"
     ]
    }
   ],
   "source": [
    "print(means.__doc__)\n",
    "print(deviation.__doc__)\n",
    "print(coefv.__doc__)"
   ]
  },
  {
   "cell_type": "code",
   "execution_count": 22,
   "metadata": {
    "ExecuteTime": {
     "end_time": "2020-05-30T23:19:57.587562Z",
     "start_time": "2020-05-30T23:19:57.572584Z"
    }
   },
   "outputs": [
    {
     "name": "stdout",
     "output_type": "stream",
     "text": [
      "Линейный конгруэтный метод\n",
      "Список средних для каждой выборки:  4329.14 4880.86 5129.112 5008.972 4996.249 5031.903\n",
      "Список отклонений для каждой выборки:  2895.218 2911.399 2918.343 2893.962 2897.779 2895.381\n",
      "Cписок коэффициентов вариаций для каждой выборки:  0.669 0.596 0.569 0.578 0.58 0.575\n"
     ]
    }
   ],
   "source": [
    "list_means_r, list_deviations_r, list_coefvs_r = [], [], []\n",
    "print(\"Линейный конгруэтный метод\")\n",
    "for i in sample_lsg:\n",
    "    list_means_r.append(means(i))\n",
    "    list_deviations_r.append(deviation(i))\n",
    "    list_coefvs_r.append(coefv(i))\n",
    "print('Список средних для каждой выборки: ', *list_means_r)\n",
    "print('Список отклонений для каждой выборки: ', *list_deviations_r)\n",
    "print('Cписок коэффициентов вариаций для каждой выборки: ', *list_coefvs_r)"
   ]
  },
  {
   "cell_type": "code",
   "execution_count": 48,
   "metadata": {
    "ExecuteTime": {
     "end_time": "2020-05-30T23:43:23.375684Z",
     "start_time": "2020-05-30T23:43:23.366669Z"
    }
   },
   "outputs": [
    {
     "name": "stdout",
     "output_type": "stream",
     "text": [
      "Распределение Пуассона\n",
      "Список средних для каждой выборки:  4.993 4.928 4.862 4.961 5.07\n",
      "Список отклонений для каждой выборки:  2.272 2.241 2.277 2.199 2.285\n",
      "Cписок коэффициентов вариаций для каждой выборки:  0.455 0.455 0.468 0.443 0.451\n"
     ]
    }
   ],
   "source": [
    "list_means_p, list_deviations_p, list_coefvs_p = [], [], []\n",
    "for i in massiv_poissov:\n",
    "    list_means_p.append(means(i))\n",
    "    list_deviations_p.append(deviation(i))\n",
    "    list_coefvs_p.append(coefv(i))\n",
    "print('Распределение Пуассона')\n",
    "print('Список средних для каждой выборки: ', *list_means_p)\n",
    "print('Список отклонений для каждой выборки: ', *list_deviations_p)\n",
    "print('Cписок коэффициентов вариаций для каждой выборки: ', *list_coefvs_p)"
   ]
  },
  {
   "cell_type": "markdown",
   "metadata": {},
   "source": [
    "## Статистика Хи-квадрат для Пуассона"
   ]
  },
  {
   "cell_type": "code",
   "execution_count": 65,
   "metadata": {
    "ExecuteTime": {
     "end_time": "2020-05-31T00:07:59.468320Z",
     "start_time": "2020-05-31T00:07:59.463333Z"
    }
   },
   "outputs": [],
   "source": [
    "def probs_pois(x):\n",
    "    \"\"\"Плотность вероятности распределения Пуассона\n",
    "       x - число из выборки\n",
    "       \n",
    "       probs_pois(x) -> float\n",
    "    \n",
    "    \"\"\"\n",
    "    \n",
    "    d = list(map(lambda z: ((5**z * np.exp(-5)) / math.factorial(z)), x))\n",
    "    return d"
   ]
  },
  {
   "cell_type": "code",
   "execution_count": 66,
   "metadata": {
    "ExecuteTime": {
     "end_time": "2020-05-31T00:08:09.774618Z",
     "start_time": "2020-05-31T00:08:09.770628Z"
    }
   },
   "outputs": [
    {
     "name": "stdout",
     "output_type": "stream",
     "text": [
      "Плотность вероятности распределения Пуассона\n",
      "       x - число из выборки\n",
      "       \n",
      "       probs_pois(x) -> float\n",
      "    \n",
      "    \n"
     ]
    }
   ],
   "source": [
    "print(probs_pois.__doc__)"
   ]
  },
  {
   "cell_type": "code",
   "execution_count": 50,
   "metadata": {
    "ExecuteTime": {
     "end_time": "2020-05-30T23:53:44.902397Z",
     "start_time": "2020-05-30T23:53:44.466439Z"
    },
    "code_folding": []
   },
   "outputs": [
    {
     "name": "stdout",
     "output_type": "stream",
     "text": [
      "20.558867294960308 14\n",
      "18.07163306207473 14\n",
      "23.39930655979697 14\n",
      "13.734471125918958 13\n",
      "38.055979104839864 14\n"
     ]
    }
   ],
   "source": [
    "list_of_xis_pois, list_of_intervals = [], []\n",
    "for i in massiv_poissov:\n",
    "    UniqueVal, CountFreq = np.unique(i, return_counts=True)\n",
    "    df = pd.DataFrame({'k': UniqueVal, 'n_k': CountFreq})\n",
    "    df['pbility_k'] = probs_pois(UniqueVal)\n",
    "    df = df[df['pbility_k'] > 0.0001]\n",
    "    df['npbility_k'] = df['n_k'].sum() * df['pbility_k']\n",
    "    df['xi'] = (df['n_k'] - df['npbility_k'])**2 / df['npbility_k']\n",
    "    list_of_xis_pois.append(df['xi'].sum())\n",
    "    list_of_intervals.append(len(df['k']) - 1)\n",
    "for i in range(len(list_of_xis_pois)):\n",
    "    print(list_of_xis_pois[i], list_of_intervals[i])"
   ]
  },
  {
   "cell_type": "markdown",
   "metadata": {},
   "source": [
    "Уровни значимости:\n",
    "\n",
    "\n",
    "$\\chi^2(14, 0.8) = 18,1508$\\\n",
    "$\\chi^2(14, 0.9) = 21,0641$\n",
    "\n",
    "$\\chi^2(14, 0.9) = 21,0641$\\\n",
    "$\\chi^2(14, 0.95) = 23,6848$\n",
    "\n",
    "$\\chi^2(13, 0.6) = 13,6356$\\\n",
    "$\\chi^2(13, 0.7) = 15,1187$\n",
    "\n",
    "$\\chi^2(14, 0.99) = 30,5779$\\\n"
   ]
  },
  {
   "cell_type": "markdown",
   "metadata": {},
   "source": [
    "## Статистика Хи-квадрат для LCG"
   ]
  },
  {
   "cell_type": "code",
   "execution_count": 30,
   "metadata": {
    "ExecuteTime": {
     "end_time": "2020-05-30T23:28:28.171273Z",
     "start_time": "2020-05-30T23:28:28.164909Z"
    }
   },
   "outputs": [],
   "source": [
    "def chi(data, number, inter):\n",
    "    \"\"\"\n",
    "\n",
    "    data (list) -масссив данных\n",
    "    number (int) - число элементов в интервале\n",
    "    inter (int) - число интервалов\n",
    "    \"\"\"\n",
    "    lsta = sorted(data)\n",
    "    count = 1\n",
    "    interval_end = []\n",
    "    interval_end.append(lsta[0])\n",
    "\n",
    "    for i in lsta:\n",
    "        if count == number:\n",
    "            interval_end.append(i + 0.001)\n",
    "            count = 0\n",
    "        count += 1\n",
    "\n",
    "    n = len(lsta)\n",
    "    before = interval_end[:-1]\n",
    "    after = interval_end[1:]\n",
    "    Sams = [number] * len(before)\n",
    "    probability = np.array(\n",
    "        list(\n",
    "            map(\n",
    "                lambda i: n * (uniform.cdf(after[i] / 10000) - uniform.cdf(\n",
    "                    before[i] / 10000)), range(inter))))\n",
    "\n",
    "    K = sum((Sams - probability)**2 / (probability))\n",
    "    return np.round(K, 3)"
   ]
  },
  {
   "cell_type": "code",
   "execution_count": 36,
   "metadata": {
    "ExecuteTime": {
     "end_time": "2020-05-30T23:29:30.895041Z",
     "start_time": "2020-05-30T23:29:30.861115Z"
    }
   },
   "outputs": [
    {
     "name": "stdout",
     "output_type": "stream",
     "text": [
      "Критерий Пирсона для n = 50\n",
      "χ^2(9) = 16.193\n",
      "\n",
      "Критерий Пирсона для n = 100\n",
      "χ^2(9) = 15.89\n",
      "\n",
      "Критерий Пирсона для n = 500\n",
      "χ^2(19) = 32.846\n",
      "\n",
      "Критерий Пирсона для n = 1000\n",
      "χ^2(24) = 20.501\n",
      "\n",
      "Критерий Пирсона для n = 5000\n",
      "χ^2(24) = 17.178\n",
      "\n",
      "Критерий Пирсона для n = 10000\n",
      "χ^2(39) = 34.648\n",
      "\n"
     ]
    }
   ],
   "source": [
    "elements_number = (5, 10, 25, 40, 200, 250)\n",
    "intervals_number = (10, 10, 20, 25, 25, 40)\n",
    "for i in range(6):\n",
    "    chis = chi(sample[i], elements_number[i], intervals_number[i])\n",
    "    print(f'Критерий Пирсона для n = {int(sizes_of_data[i])}')\n",
    "    print(f'\\u03C7^2({intervals_number[i]-1}) = {chis}\\n')"
   ]
  },
  {
   "cell_type": "markdown",
   "metadata": {},
   "source": [
    "Уровни значимости:\n",
    "\n",
    "\n",
    "$\\chi^2(9, 0.9) = 14,6837$\\\n",
    "$\\chi^2(9, 0.95) = 16,9190$\n",
    "\n",
    "$\\chi^2(19, 0.95) = 30,1435$\\\n",
    "$\\chi^2(19, 0.975) = 32,8523$\n",
    "\n",
    "$\\chi^2(24, 0.1) = 15,6587$\\\n",
    "$\\chi^2(24, 0.2) = 18,0618$\n",
    "\n",
    "$\\chi^2(39, 0.30) = 33,9315$\\\n",
    "$\\chi^2(39, 0.4) = 36,1628$"
   ]
  },
  {
   "cell_type": "markdown",
   "metadata": {},
   "source": [
    "## Измерение времени генерации"
   ]
  },
  {
   "cell_type": "code",
   "execution_count": 44,
   "metadata": {
    "ExecuteTime": {
     "end_time": "2020-05-30T23:36:37.607205Z",
     "start_time": "2020-05-30T23:36:29.713180Z"
    },
    "scrolled": false
   },
   "outputs": [],
   "source": [
    "time_lsg, time_poiss, time_rand = [], [], []\n",
    "for i in sizes_times:\n",
    "    x = time.time()\n",
    "    np.random.randint(1, 100, int(i))\n",
    "    y = time.time() - x\n",
    "    time_rand.append(y)\n",
    "\n",
    "    x = time.time()\n",
    "    random_sample(size, [0, 10001], seed)\n",
    "    y = time.time() - x\n",
    "    time_lsg.append(y)\n",
    "\n",
    "    x = time.time()\n",
    "    genpoiss(5, int(i))\n",
    "    y = time.time() - x\n",
    "    time_poiss.append(y)"
   ]
  },
  {
   "cell_type": "markdown",
   "metadata": {},
   "source": [
    "## Сравнение времени генерации "
   ]
  },
  {
   "cell_type": "code",
   "execution_count": 47,
   "metadata": {
    "ExecuteTime": {
     "end_time": "2020-05-30T23:38:49.871025Z",
     "start_time": "2020-05-30T23:38:49.367054Z"
    }
   },
   "outputs": [
    {
     "data": {
      "text/plain": [
       "<matplotlib.legend.Legend at 0x17fd1c8cc08>"
      ]
     },
     "execution_count": 47,
     "metadata": {},
     "output_type": "execute_result"
    },
    {
     "data": {
      "image/png": "[encoded data removed]",
      "text/plain": [
       "<Figure size 720x720 with 2 Axes>"
      ]
     },
     "metadata": {},
     "output_type": "display_data"
    }
   ],
   "source": [
    "fig, [ax1, ax2] = plt.subplots(2, 1, figsize=(10, 10))\n",
    "ax1.plot(sizes_times, time_lsg, label='LCG')\n",
    "ax1.plot(sizes_times, time_rand, label='Random')\n",
    "\n",
    "ax1.legend()\n",
    "ax1.set_title('Сравнение времени генерации чисел LCG и встроенного ')\n",
    "\n",
    "ax2.plot(sizes_times, time_poiss, label='Poisson')\n",
    "ax2.plot(sizes_times, time_rand, label='Random')\n",
    "ax2.set_title(\"Сравнение времени генерации Пуассона и встроенного\")\n",
    "ax2.legend()"
   ]
  },
  {
   "cell_type": "code",
   "execution_count": null,
   "metadata": {},
   "outputs": [],
   "source": []
  }
 ],
 "metadata": {
  "kernelspec": {
   "display_name": "Python 3",
   "language": "python",
   "name": "python3"
  },
  "language_info": {
   "codemirror_mode": {
    "name": "ipython",
    "version": 3
   },
   "file_extension": ".py",
   "mimetype": "text/x-python",
   "name": "python",
   "nbconvert_exporter": "python",
   "pygments_lexer": "ipython3",
   "version": "3.8.2"
  },
  "latex_envs": {
   "LaTeX_envs_menu_present": true,
   "autoclose": false,
   "autocomplete": true,
   "bibliofile": "biblio.bib",
   "cite_by": "apalike",
   "current_citInitial": 1,
   "eqLabelWithNumbers": true,
   "eqNumInitial": 1,
   "hotkeys": {
    "equation": "Ctrl-E",
    "itemize": "Ctrl-I"
   },
   "labels_anchors": false,
   "latex_user_defs": false,
   "report_style_numbering": false,
   "user_envs_cfg": false
  },
  "toc": {
   "base_numbering": 1,
   "nav_menu": {},
   "number_sections": true,
   "sideBar": true,
   "skip_h1_title": false,
   "title_cell": "Table of Contents",
   "title_sidebar": "Contents",
   "toc_cell": false,
   "toc_position": {},
   "toc_section_display": true,
   "toc_window_display": false
  }
 },
 "nbformat": 4,
 "nbformat_minor": 2
}
